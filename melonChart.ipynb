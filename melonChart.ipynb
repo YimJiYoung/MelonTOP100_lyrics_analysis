{
 "cells": [
  {
   "cell_type": "code",
   "execution_count": 2,
   "metadata": {},
   "outputs": [],
   "source": [
    "import requests\n",
    "from bs4 import BeautifulSoup\n",
    "import lxml.html\n",
    "import re\n"
   ]
  },
  {
   "cell_type": "code",
   "execution_count": 5,
   "metadata": {},
   "outputs": [],
   "source": [
    "# TOP100 가사 크롤링\n",
    "\n",
    "headers = {'User-Agent':'Mozilla/5.0 (Windows NT 6.3; Win64; x64) AppleWebKit/537.36 (KHTML, like Gecko) Chrome/63.0.3239.132 Safari/537.36'}\n",
    "url= 'https://www.melon.com/chart/index.htm'\n",
    "res = requests.get(url, headers = headers) # res 객체에 html 데이터 저장\n",
    "#print(res.content)\n",
    "soup = BeautifulSoup(res.content, 'html.parser')\n",
    "selected = soup.select('.ellipsis.rank01 a')\n",
    "p = re.compile(\"[0-9]+\") \n",
    "songs = [] # id / title / lyric\n",
    "\n",
    "for i in range(len(selected)):\n",
    "    songs.append([p.findall(selected[i].attrs.get('href'))[1],selected[i].text]) # id / title\n",
    "\n",
    "for i in range(len(songs)):\n",
    "    song_url=\"https://www.melon.com/song/detail.htm?songId=\"+str(songs[i][0]) # song id로 해당 노래의 detail page에 접근\n",
    "    res = requests.get(song_url, headers = headers)\n",
    "    soup = BeautifulSoup(res.content, 'html.parser')\n",
    "    selected = soup.select('#d_video_summary')\n",
    "    lyrics = selected[0].get_text(separator=\" \").strip()\n",
    "    songs[i].append(lyrics) # lyric\n",
    "    "
   ]
  }
 ],
 "metadata": {
  "kernelspec": {
   "display_name": "Python 3",
   "language": "python",
   "name": "python3"
  },
  "language_info": {
   "codemirror_mode": {
    "name": "ipython",
    "version": 3
   },
   "file_extension": ".py",
   "mimetype": "text/x-python",
   "name": "python",
   "nbconvert_exporter": "python",
   "pygments_lexer": "ipython3",
   "version": "3.7.0"
  }
 },
 "nbformat": 4,
 "nbformat_minor": 2
}
